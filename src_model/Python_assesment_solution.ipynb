{
  "nbformat": 4,
  "nbformat_minor": 0,
  "metadata": {
    "colab": {
      "name": "Untitled0.ipynb",
      "provenance": []
    },
    "kernelspec": {
      "name": "python3",
      "display_name": "Python 3"
    },
    "language_info": {
      "name": "python"
    }
  },
  "cells": [
    {
      "cell_type": "markdown",
      "metadata": {
        "id": "3bPRC_deusQY"
      },
      "source": [
        "# **Name:** Uday Tathireddy\n",
        "\n",
        "## * **Fist we need to run this code we need some python librarys**\n",
        "  1. Pands\n",
        "  2. Numpy\n",
        "  3. Sklearn\n",
        "  4. NLTK\n",
        "  5. Google Colaboratory\n",
        "\n",
        "* **Know we can see how to install this librarys**\n",
        "\n",
        "1. pip install pandas\n",
        "2. pip install numpy\n",
        "3. pip install scikit-learn\n",
        "4. pip install nlp\n"
      ]
    },
    {
      "cell_type": "code",
      "metadata": {
        "id": "CgMBRXEjlY74"
      },
      "source": [
        "import pandas as pd\n",
        "import numpy as np"
      ],
      "execution_count": 34,
      "outputs": []
    },
    {
      "cell_type": "code",
      "metadata": {
        "id": "ZMb806JHllo4"
      },
      "source": [
        "metadata = pd.read_csv('/content/drive/MyDrive/Assignment/python_assesment.csv')"
      ],
      "execution_count": 35,
      "outputs": []
    },
    {
      "cell_type": "code",
      "metadata": {
        "colab": {
          "base_uri": "https://localhost:8080/"
        },
        "id": "j5M7zWBEtN0h",
        "outputId": "f3dbd4fe-5448-4a74-e276-4807a99b71bf"
      },
      "source": [
        "metadata.info"
      ],
      "execution_count": 62,
      "outputs": [
        {
          "output_type": "execute_result",
          "data": {
            "text/plain": [
              "<bound method DataFrame.info of         id  ...                            orig_name\n",
              "0        0  ...                 GOPI NON FAT  YOGURT\n",
              "1        1  ...  HIMALAYA TULSI RESPIRATORY WELLNESS\n",
              "2        2  ...                  DEEP POTATOES DICED\n",
              "3        3  ...                    BIKAJI GUR REWARI\n",
              "4        4  ...  BAROODY MAAMOUL DATE FILLED COOKIES\n",
              "...    ...  ...                                  ...\n",
              "5995  5995  ...             AROMATICS MANGOLI A SOAP\n",
              "5996  5996  ...      CLOROX NO SPLASH FORMULA LIQUID\n",
              "5997  5997  ...  HERITAGE SLCT CRANBERRY N ALMND BAS\n",
              "5998  5998  ...       BHAVANI DANDIYA MATKI WAX DIYA\n",
              "5999  5999  ...  BOMBAY KITCHEN SPINACH N CHEESE SAM\n",
              "\n",
              "[6000 rows x 3 columns]>"
            ]
          },
          "metadata": {
            "tags": []
          },
          "execution_count": 62
        }
      ]
    },
    {
      "cell_type": "code",
      "metadata": {
        "colab": {
          "base_uri": "https://localhost:8080/"
        },
        "id": "D6RGAOl5tTN1",
        "outputId": "9ef45028-8201-457c-c4c9-621a81058d6c"
      },
      "source": [
        "metadata.shape"
      ],
      "execution_count": 63,
      "outputs": [
        {
          "output_type": "execute_result",
          "data": {
            "text/plain": [
              "(6000, 3)"
            ]
          },
          "metadata": {
            "tags": []
          },
          "execution_count": 63
        }
      ]
    },
    {
      "cell_type": "code",
      "metadata": {
        "colab": {
          "base_uri": "https://localhost:8080/"
        },
        "id": "TaxlPBVsl3Bz",
        "outputId": "e01f5ff2-794c-41e5-c1e0-e0620c9e2361"
      },
      "source": [
        "metadata['name'].head()"
      ],
      "execution_count": 36,
      "outputs": [
        {
          "output_type": "execute_result",
          "data": {
            "text/plain": [
              "0                   GOPI NON FAT  YOGURT\n",
              "1    HIMALAYA TULSI RESPIRATORY WELLNESS\n",
              "2                    DEEP POTATOES DICED\n",
              "3                      BIKAJI GUR REWARI\n",
              "4    BAROODY MAAMOUL DATE FILLED COOKIES\n",
              "Name: name, dtype: object"
            ]
          },
          "metadata": {
            "tags": []
          },
          "execution_count": 36
        }
      ]
    },
    {
      "cell_type": "code",
      "metadata": {
        "id": "MqQEFGZpmWX8"
      },
      "source": [
        "metadata = metadata.drop(metadata.id [6000:], axis=0)"
      ],
      "execution_count": 37,
      "outputs": []
    },
    {
      "cell_type": "code",
      "metadata": {
        "colab": {
          "base_uri": "https://localhost:8080/"
        },
        "id": "cZ721fBxl64V",
        "outputId": "40e58173-af8b-4144-8a73-6d9f51232479"
      },
      "source": [
        "#Import TfIdfVectorizer from scikit-learn\n",
        "from sklearn.feature_extraction.text import TfidfVectorizer\n",
        "\n",
        "#Define a TF-IDF Vectorizer Object. Remove all english stop words such as 'the', 'a', 'of' etc\n",
        "tfidf = TfidfVectorizer(stop_words='english')\n",
        "\n",
        "#Replace NaN with an empty string\n",
        "metadata['name'] = metadata['name'].fillna('')\n",
        "\n",
        "#Construct the required TF-IDF matrix by fitting and transforming the data\n",
        "tfidf_matrix = tfidf.fit_transform(metadata['name'])\n",
        "\n",
        "#Output the shape of tfidf_matrix\n",
        "tfidf_matrix.shape"
      ],
      "execution_count": 38,
      "outputs": [
        {
          "output_type": "execute_result",
          "data": {
            "text/plain": [
              "(6000, 4119)"
            ]
          },
          "metadata": {
            "tags": []
          },
          "execution_count": 38
        }
      ]
    },
    {
      "cell_type": "code",
      "metadata": {
        "colab": {
          "base_uri": "https://localhost:8080/"
        },
        "id": "eSTGrr7nmFhh",
        "outputId": "d11fcfa2-f237-4018-adcc-e9d6243e9dd4"
      },
      "source": [
        "tfidf.get_feature_names()[1000:1010]"
      ],
      "execution_count": 39,
      "outputs": [
        {
          "output_type": "execute_result",
          "data": {
            "text/plain": [
              "['chilili',\n",
              " 'chilka',\n",
              " 'chill',\n",
              " 'chilli',\n",
              " 'chilly',\n",
              " 'chillz',\n",
              " 'chimta',\n",
              " 'china',\n",
              " 'chinese',\n",
              " 'chings']"
            ]
          },
          "metadata": {
            "tags": []
          },
          "execution_count": 39
        }
      ]
    },
    {
      "cell_type": "code",
      "metadata": {
        "colab": {
          "base_uri": "https://localhost:8080/",
          "height": 665
        },
        "id": "Y7LkZh6poN7H",
        "outputId": "ef10ac2a-60a2-4bc0-813f-212a6b75ffa1"
      },
      "source": [
        "metadata.head(20)"
      ],
      "execution_count": 57,
      "outputs": [
        {
          "output_type": "execute_result",
          "data": {
            "text/html": [
              "<div>\n",
              "<style scoped>\n",
              "    .dataframe tbody tr th:only-of-type {\n",
              "        vertical-align: middle;\n",
              "    }\n",
              "\n",
              "    .dataframe tbody tr th {\n",
              "        vertical-align: top;\n",
              "    }\n",
              "\n",
              "    .dataframe thead th {\n",
              "        text-align: right;\n",
              "    }\n",
              "</style>\n",
              "<table border=\"1\" class=\"dataframe\">\n",
              "  <thead>\n",
              "    <tr style=\"text-align: right;\">\n",
              "      <th></th>\n",
              "      <th>id</th>\n",
              "      <th>name</th>\n",
              "      <th>orig_name</th>\n",
              "    </tr>\n",
              "  </thead>\n",
              "  <tbody>\n",
              "    <tr>\n",
              "      <th>0</th>\n",
              "      <td>0</td>\n",
              "      <td>GOPI NON FAT  YOGURT</td>\n",
              "      <td>GOPI NON FAT  YOGURT</td>\n",
              "    </tr>\n",
              "    <tr>\n",
              "      <th>1</th>\n",
              "      <td>1</td>\n",
              "      <td>HIMALAYA TULSI RESPIRATORY WELLNESS</td>\n",
              "      <td>HIMALAYA TULSI RESPIRATORY WELLNESS</td>\n",
              "    </tr>\n",
              "    <tr>\n",
              "      <th>2</th>\n",
              "      <td>2</td>\n",
              "      <td>DEEP POTATOES DICED</td>\n",
              "      <td>DEEP POTATOES DICED</td>\n",
              "    </tr>\n",
              "    <tr>\n",
              "      <th>3</th>\n",
              "      <td>3</td>\n",
              "      <td>BIKAJI GUR REWARI</td>\n",
              "      <td>BIKAJI GUR REWARI</td>\n",
              "    </tr>\n",
              "    <tr>\n",
              "      <th>4</th>\n",
              "      <td>4</td>\n",
              "      <td>BAROODY MAAMOUL DATE FILLED COOKIES</td>\n",
              "      <td>BAROODY MAAMOUL DATE FILLED COOKIES</td>\n",
              "    </tr>\n",
              "    <tr>\n",
              "      <th>5</th>\n",
              "      <td>5</td>\n",
              "      <td>CLOROX</td>\n",
              "      <td>CLOROX</td>\n",
              "    </tr>\n",
              "    <tr>\n",
              "      <th>6</th>\n",
              "      <td>6</td>\n",
              "      <td>BURMANS YELLOW MUSTARD</td>\n",
              "      <td>BURMANS YELLOW MUSTARD</td>\n",
              "    </tr>\n",
              "    <tr>\n",
              "      <th>7</th>\n",
              "      <td>7</td>\n",
              "      <td>BABY GOAT CLEAN HALAL</td>\n",
              "      <td>BABY GOAT CLEAN HALAL</td>\n",
              "    </tr>\n",
              "    <tr>\n",
              "      <th>8</th>\n",
              "      <td>8</td>\n",
              "      <td>EXQUISITAS BAKERY PEPERECHAS</td>\n",
              "      <td>EXQUISITAS BAKERY PEPERECHAS</td>\n",
              "    </tr>\n",
              "    <tr>\n",
              "      <th>9</th>\n",
              "      <td>9</td>\n",
              "      <td>EMAMI FAIR AND HANDSOME</td>\n",
              "      <td>EMAMI FAIR AND HANDSOME</td>\n",
              "    </tr>\n",
              "    <tr>\n",
              "      <th>10</th>\n",
              "      <td>10</td>\n",
              "      <td>BHAVANI MADRAS JAGGERY CUBES</td>\n",
              "      <td>BHAVANI MADRAS JAGGERY CUBES</td>\n",
              "    </tr>\n",
              "    <tr>\n",
              "      <th>11</th>\n",
              "      <td>11</td>\n",
              "      <td>GULLON NO SUGAR TWINS CREME</td>\n",
              "      <td>GULLON NO SUGAR TWINS CREME</td>\n",
              "    </tr>\n",
              "    <tr>\n",
              "      <th>12</th>\n",
              "      <td>12</td>\n",
              "      <td>ATTICA KALAMATA OLIVES PITTED</td>\n",
              "      <td>ATTICA KALAMATA OLIVES PITTED</td>\n",
              "    </tr>\n",
              "    <tr>\n",
              "      <th>13</th>\n",
              "      <td>13</td>\n",
              "      <td>HEINZ BEANS WITH TOMATO SAUSE</td>\n",
              "      <td>HEINZ BEANS WITH TOMATO SAUSE</td>\n",
              "    </tr>\n",
              "    <tr>\n",
              "      <th>14</th>\n",
              "      <td>14</td>\n",
              "      <td>COBAN KASAP SUCUGU</td>\n",
              "      <td>COBAN KASAP SUCUGU</td>\n",
              "    </tr>\n",
              "    <tr>\n",
              "      <th>15</th>\n",
              "      <td>15</td>\n",
              "      <td>BANQUET POPCORN CHICKEN</td>\n",
              "      <td>BANQUET POPCORN CHICKEN</td>\n",
              "    </tr>\n",
              "    <tr>\n",
              "      <th>16</th>\n",
              "      <td>16</td>\n",
              "      <td>KCB PUNJABI VEG BISCUIT</td>\n",
              "      <td>KCB PUNJABI VEG BISCUIT</td>\n",
              "    </tr>\n",
              "    <tr>\n",
              "      <th>17</th>\n",
              "      <td>17</td>\n",
              "      <td>KOSKA TAHIN HELVA PISTACHIO</td>\n",
              "      <td>KOSKA TAHIN HELVA PISTACHIO</td>\n",
              "    </tr>\n",
              "    <tr>\n",
              "      <th>18</th>\n",
              "      <td>18</td>\n",
              "      <td>COUSCUS</td>\n",
              "      <td>COUSCUS</td>\n",
              "    </tr>\n",
              "    <tr>\n",
              "      <th>19</th>\n",
              "      <td>19</td>\n",
              "      <td>HAITHI MANGO</td>\n",
              "      <td>HAITHI MANGO</td>\n",
              "    </tr>\n",
              "  </tbody>\n",
              "</table>\n",
              "</div>"
            ],
            "text/plain": [
              "    id  ...                            orig_name\n",
              "0    0  ...                 GOPI NON FAT  YOGURT\n",
              "1    1  ...  HIMALAYA TULSI RESPIRATORY WELLNESS\n",
              "2    2  ...                  DEEP POTATOES DICED\n",
              "3    3  ...                    BIKAJI GUR REWARI\n",
              "4    4  ...  BAROODY MAAMOUL DATE FILLED COOKIES\n",
              "5    5  ...                               CLOROX\n",
              "6    6  ...               BURMANS YELLOW MUSTARD\n",
              "7    7  ...                BABY GOAT CLEAN HALAL\n",
              "8    8  ...         EXQUISITAS BAKERY PEPERECHAS\n",
              "9    9  ...              EMAMI FAIR AND HANDSOME\n",
              "10  10  ...         BHAVANI MADRAS JAGGERY CUBES\n",
              "11  11  ...          GULLON NO SUGAR TWINS CREME\n",
              "12  12  ...        ATTICA KALAMATA OLIVES PITTED\n",
              "13  13  ...        HEINZ BEANS WITH TOMATO SAUSE\n",
              "14  14  ...                   COBAN KASAP SUCUGU\n",
              "15  15  ...              BANQUET POPCORN CHICKEN\n",
              "16  16  ...              KCB PUNJABI VEG BISCUIT\n",
              "17  17  ...          KOSKA TAHIN HELVA PISTACHIO\n",
              "18  18  ...                              COUSCUS\n",
              "19  19  ...                         HAITHI MANGO\n",
              "\n",
              "[20 rows x 3 columns]"
            ]
          },
          "metadata": {
            "tags": []
          },
          "execution_count": 57
        }
      ]
    },
    {
      "cell_type": "code",
      "metadata": {
        "id": "2qpdBRV8mKZW"
      },
      "source": [
        "# Import linear_kernel\n",
        "from sklearn.metrics.pairwise import linear_kernel\n",
        "\n",
        "# Compute the cosine similarity matrix\n",
        "cosine_sim = linear_kernel(tfidf_matrix, tfidf_matrix)"
      ],
      "execution_count": 41,
      "outputs": []
    },
    {
      "cell_type": "code",
      "metadata": {
        "colab": {
          "base_uri": "https://localhost:8080/"
        },
        "id": "0rlqdaplmNv_",
        "outputId": "39a96fe7-601a-4772-911b-b57e543ba249"
      },
      "source": [
        "cosine_sim.shape"
      ],
      "execution_count": 42,
      "outputs": [
        {
          "output_type": "execute_result",
          "data": {
            "text/plain": [
              "(6000, 6000)"
            ]
          },
          "metadata": {
            "tags": []
          },
          "execution_count": 42
        }
      ]
    },
    {
      "cell_type": "code",
      "metadata": {
        "colab": {
          "base_uri": "https://localhost:8080/"
        },
        "id": "vnuPP4UDn79_",
        "outputId": "2df0aee7-0c4b-44d7-9e22-7e5fbe4dea39"
      },
      "source": [
        "cosine_sim[1]"
      ],
      "execution_count": 43,
      "outputs": [
        {
          "output_type": "execute_result",
          "data": {
            "text/plain": [
              "array([0., 1., 0., ..., 0., 0., 0.])"
            ]
          },
          "metadata": {
            "tags": []
          },
          "execution_count": 43
        }
      ]
    },
    {
      "cell_type": "code",
      "metadata": {
        "id": "X5W3LSRxoCzU"
      },
      "source": [
        "#Construct a reverse map of indices and name titles\n",
        "indices = pd.Series(metadata.index, index=metadata['orig_name']).drop_duplicates()"
      ],
      "execution_count": 44,
      "outputs": []
    },
    {
      "cell_type": "code",
      "metadata": {
        "colab": {
          "base_uri": "https://localhost:8080/"
        },
        "id": "onVVo1-boFtD",
        "outputId": "e6de1dd7-a2e3-4662-e2e5-740a59ce5a3e"
      },
      "source": [
        "indices[:10]"
      ],
      "execution_count": 45,
      "outputs": [
        {
          "output_type": "execute_result",
          "data": {
            "text/plain": [
              "orig_name\n",
              "GOPI NON FAT  YOGURT                   0\n",
              "HIMALAYA TULSI RESPIRATORY WELLNESS    1\n",
              "DEEP POTATOES DICED                    2\n",
              "BIKAJI GUR REWARI                      3\n",
              "BAROODY MAAMOUL DATE FILLED COOKIES    4\n",
              "CLOROX                                 5\n",
              "BURMANS YELLOW MUSTARD                 6\n",
              "BABY GOAT CLEAN HALAL                  7\n",
              "EXQUISITAS BAKERY PEPERECHAS           8\n",
              "EMAMI FAIR AND HANDSOME                9\n",
              "dtype: int64"
            ]
          },
          "metadata": {
            "tags": []
          },
          "execution_count": 45
        }
      ]
    },
    {
      "cell_type": "code",
      "metadata": {
        "id": "I_5E_8aUoVpA"
      },
      "source": [
        "def get_recommendations(title, cosine_sim=cosine_sim):\n",
        "    # Get the index of the name that matches the title\n",
        "    idx = indices[title]\n",
        "\n",
        "    # Get the pairwsie similarity scores of all iteams with that name\n",
        "    sim_scores = list(enumerate(cosine_sim[idx]))\n",
        "\n",
        "    # Sort the names based on the similarity scores\n",
        "    sim_scores = sorted(sim_scores, key=lambda x: x[1], reverse=True)\n",
        "\n",
        "    # Get the scores of the 10 most similar names\n",
        "    sim_scores = sim_scores[1:20]\n",
        "\n",
        "    # Get the names indices\n",
        "    name_indices = [i[0] for i in sim_scores]\n",
        "\n",
        "    # Return the top 10 most similar names\n",
        "    return metadata['orig_name'].iloc[name_indices]"
      ],
      "execution_count": 46,
      "outputs": []
    },
    {
      "cell_type": "code",
      "metadata": {
        "colab": {
          "base_uri": "https://localhost:8080/"
        },
        "id": "Fb7bDKL8oimr",
        "outputId": "c8af9140-1e2f-4222-ff19-d39c334b86f8"
      },
      "source": [
        "print(get_recommendations('BABY GOAT CLEAN HALAL'))"
      ],
      "execution_count": 61,
      "outputs": [
        {
          "output_type": "stream",
          "text": [
            "2296                  CUT BABY GOAT HALAL\n",
            "4483                     GOAT LIVER HALAL\n",
            "5423                     GOAT CHAMP HALAL\n",
            "5809                        BABY GOAT LEG\n",
            "467            CHICKEN BREAST CLEAN HALAL\n",
            "1095                   CLEAN FULL CHICKEN\n",
            "2516                   CLEAN FULL CHICKEN\n",
            "3628                   CLEAN FULL CHICKEN\n",
            "2529                            HALF GOAT\n",
            "22                             GOAT LIVER\n",
            "5736                   BARAKA GOAT CHEESE\n",
            "4041                           GOAT BRAIN\n",
            "1541                 DETTOL CLEAN N FRESH\n",
            "4656                 DETTOL CLEAN N FRESH\n",
            "1529                    KATUN GOAT CHEESE\n",
            "3975                            CLEAN KOI\n",
            "3955    K N M BULGARIAN GOAT WHITE CHEESE\n",
            "2709                         BABY SPINACH\n",
            "2880                         BABY SPINACH\n",
            "Name: orig_name, dtype: object\n"
          ],
          "name": "stdout"
        }
      ]
    },
    {
      "cell_type": "code",
      "metadata": {
        "colab": {
          "base_uri": "https://localhost:8080/"
        },
        "id": "716-kJNesJPy",
        "outputId": "c018529a-f175-45c0-fe69-e7a7027b0b53"
      },
      "source": [
        "print(get_recommendations('BIKAJI GUR REWARI'))"
      ],
      "execution_count": 59,
      "outputs": [
        {
          "output_type": "stream",
          "text": [
            "565                  BIKAJI SUGAR REWARI\n",
            "5502    KALEVA GUR REWARI WINTER DELIGHT\n",
            "5782                     BIKAJI GUR PARA\n",
            "5536                              BIKAJI\n",
            "4895            BIKAJI GUR KHASTA GAJJAK\n",
            "2958                     BB SUGAR REWARI\n",
            "4340                     A 1 JAGGERY GUR\n",
            "4837                       KOLHAPURI GUR\n",
            "5683           A ONE GUR JAGGERY COOKIES\n",
            "3053                          GUR REWADI\n",
            "5659                    JASHAN GUR CHANA\n",
            "3641                      A1 JAGGERY GUR\n",
            "824            JASHAN PUNJABI MASALA GUR\n",
            "4222           JASHAN PUNJABI MASALA GUR\n",
            "832                   BIKAJI BHUJIA NO 3\n",
            "354             KCB PUNJABI GUR BISCUITS\n",
            "2133        A ONE GUR AND SAUNF BISCUITS\n",
            "2485                    BIKAJI MIX SWEET\n",
            "3109                    JASHAN GUR SIRNI\n",
            "Name: orig_name, dtype: object\n"
          ],
          "name": "stdout"
        }
      ]
    },
    {
      "cell_type": "code",
      "metadata": {
        "colab": {
          "base_uri": "https://localhost:8080/"
        },
        "id": "lWxIZYgFsTjY",
        "outputId": "5a75fe19-0e34-4a95-ace3-d8a6908b24eb"
      },
      "source": [
        "print(get_recommendations('HAITHI MANGO'))"
      ],
      "execution_count": 60,
      "outputs": [
        {
          "output_type": "stream",
          "text": [
            "4574                  GREEN MANGO\n",
            "5637             DEEP MANGO DRINK\n",
            "3169           AHMED MANGO PICKLE\n",
            "3759           AHMED MANGO PICKLE\n",
            "1976             DEER MANGO DRINK\n",
            "3301             DEER MANGO DRINK\n",
            "4158             DEER MANGO DRINK\n",
            "4448             BABY GREEN MANGO\n",
            "3378              DEEP MANGO PULP\n",
            "3474             DEEP LASSI MANGO\n",
            "3366             BABY SWEET MANGO\n",
            "1100       DEEP GREEN MANGO DRINK\n",
            "5171        DEEP HOT MANGO PICKLE\n",
            "5725    AHMED MANGO PICKLE IN OIL\n",
            "4600            AHMED JELLY MANGO\n",
            "912            FROOTI MANGO DRINK\n",
            "4102           FROOTI MANGO DRINK\n",
            "647             GREEN MANGO DICED\n",
            "2006       CHAOKOH MANGO IN SYRUP\n",
            "Name: orig_name, dtype: object\n"
          ],
          "name": "stdout"
        }
      ]
    },
    {
      "cell_type": "markdown",
      "metadata": {
        "id": "536vpP4UxVuE"
      },
      "source": [
        "Conclusion: In this project i used LINEAR_KERNEL model "
      ]
    },
    {
      "cell_type": "code",
      "metadata": {
        "id": "hk8E_VfPxotu"
      },
      "source": [
        ""
      ],
      "execution_count": null,
      "outputs": []
    }
  ]
}